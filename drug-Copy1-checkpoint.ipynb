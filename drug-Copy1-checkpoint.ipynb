{
 "cells": [
  {
   "cell_type": "code",
   "execution_count": 1,
   "id": "d4dbd511",
   "metadata": {},
   "outputs": [
    {
     "name": "stdout",
     "output_type": "stream",
     "text": [
      "CSV file 'Drug_Effects.csv' has been created.\n"
     ]
    }
   ],
   "source": [
    "import csv\n",
    "import numpy as np\n",
    "from faker import Faker\n",
    "\n",
    "fake = Faker()\n",
    "\n",
    "# Create an empty list to store patient data\n",
    "patients = []\n",
    "\n",
    "# Generate data for 400,000 patients\n",
    "for _ in range(400000):\n",
    "    name = fake.name()\n",
    "    age = np.random.randint(18, 90)\n",
    "    gender = fake.random_element(elements=('Male', 'Female'))\n",
    "    race = fake.random_element(elements=('Caucasian', 'African American', 'Asian', 'Hispanic', 'Other'))\n",
    "    drug=fake.random_element(elements=('25dph-7.5peh','warfarin (bulk) 100 % powder','chantix','12 hour nasal relief spray ,non-aerosol','wymzya fe','pyrogallol crystals','lyza','lysiplex plus liquid','lysteda','pyrithione zinc shampoo'))\n",
    "    side_effects = ', '.join(fake.random_elements(elements=('Headache', 'Nausea', 'Fatigue', 'Fever','Drowsiness','Dizziness','dry mouth /nose/throat','upset stomach','constipation','Bloating'), unique=True))\n",
    "\n",
    "    # Append patient data to the list\n",
    "    patients.append([name, age, gender, race, drug, side_effects])\n",
    "\n",
    "# Define the CSV file name\n",
    "csv_file_name = 'Drug_Effects.csv'\n",
    "\n",
    "# Write the data to the CSV file\n",
    "with open(csv_file_name, mode='w', newline='') as csv_file:\n",
    "    csv_writer = csv.writer(csv_file)\n",
    "    \n",
    "    # Write the header row\n",
    "    csv_writer.writerow(['Name', 'Age', 'Gender', 'Race','Drug', 'Side Effects'])\n",
    "    \n",
    "    # Write the patient data\n",
    "    csv_writer.writerows(patients)\n",
    "\n",
    "print(f\"CSV file '{csv_file_name}' has been created.\")\n"
   ]
  },
  {
   "cell_type": "code",
   "execution_count": 2,
   "id": "13cf19b9",
   "metadata": {},
   "outputs": [],
   "source": [
    "import pandas as pd\n",
    "import matplotlib.pyplot as plt\n",
    "import seaborn as sns\n",
    "from scipy import stats"
   ]
  },
  {
   "cell_type": "code",
   "execution_count": 3,
   "id": "43860777",
   "metadata": {},
   "outputs": [],
   "source": [
    "csv_file_name='Drug_Effects.csv'\n",
    "data=pd.read_csv(csv_file_name)"
   ]
  },
  {
   "cell_type": "code",
   "execution_count": 4,
   "id": "09dad1c3",
   "metadata": {},
   "outputs": [
    {
     "data": {
      "text/html": [
       "<div>\n",
       "<style scoped>\n",
       "    .dataframe tbody tr th:only-of-type {\n",
       "        vertical-align: middle;\n",
       "    }\n",
       "\n",
       "    .dataframe tbody tr th {\n",
       "        vertical-align: top;\n",
       "    }\n",
       "\n",
       "    .dataframe thead th {\n",
       "        text-align: right;\n",
       "    }\n",
       "</style>\n",
       "<table border=\"1\" class=\"dataframe\">\n",
       "  <thead>\n",
       "    <tr style=\"text-align: right;\">\n",
       "      <th></th>\n",
       "      <th>Name</th>\n",
       "      <th>Age</th>\n",
       "      <th>Gender</th>\n",
       "      <th>Race</th>\n",
       "      <th>Drug</th>\n",
       "      <th>Side Effects</th>\n",
       "    </tr>\n",
       "  </thead>\n",
       "  <tbody>\n",
       "    <tr>\n",
       "      <th>0</th>\n",
       "      <td>Victoria Hernandez</td>\n",
       "      <td>78</td>\n",
       "      <td>Female</td>\n",
       "      <td>Asian</td>\n",
       "      <td>12 hour nasal relief spray ,non-aerosol</td>\n",
       "      <td>Fatigue, upset stomach, Bloating, constipation...</td>\n",
       "    </tr>\n",
       "    <tr>\n",
       "      <th>1</th>\n",
       "      <td>Reginald Wright</td>\n",
       "      <td>41</td>\n",
       "      <td>Female</td>\n",
       "      <td>Caucasian</td>\n",
       "      <td>lyza</td>\n",
       "      <td>Fatigue, upset stomach, dry mouth /nose/throat...</td>\n",
       "    </tr>\n",
       "    <tr>\n",
       "      <th>2</th>\n",
       "      <td>Nathaniel Lara</td>\n",
       "      <td>24</td>\n",
       "      <td>Male</td>\n",
       "      <td>Caucasian</td>\n",
       "      <td>pyrogallol crystals</td>\n",
       "      <td>Nausea, Bloating</td>\n",
       "    </tr>\n",
       "    <tr>\n",
       "      <th>3</th>\n",
       "      <td>Mackenzie Mueller</td>\n",
       "      <td>34</td>\n",
       "      <td>Female</td>\n",
       "      <td>Caucasian</td>\n",
       "      <td>warfarin (bulk) 100 % powder</td>\n",
       "      <td>upset stomach, Headache</td>\n",
       "    </tr>\n",
       "    <tr>\n",
       "      <th>4</th>\n",
       "      <td>Kelly Mahoney</td>\n",
       "      <td>67</td>\n",
       "      <td>Female</td>\n",
       "      <td>Asian</td>\n",
       "      <td>wymzya fe</td>\n",
       "      <td>Fatigue, Drowsiness, Headache, upset stomach, ...</td>\n",
       "    </tr>\n",
       "  </tbody>\n",
       "</table>\n",
       "</div>"
      ],
      "text/plain": [
       "                 Name  Age  Gender       Race  \\\n",
       "0  Victoria Hernandez   78  Female      Asian   \n",
       "1     Reginald Wright   41  Female  Caucasian   \n",
       "2      Nathaniel Lara   24    Male  Caucasian   \n",
       "3   Mackenzie Mueller   34  Female  Caucasian   \n",
       "4       Kelly Mahoney   67  Female      Asian   \n",
       "\n",
       "                                      Drug  \\\n",
       "0  12 hour nasal relief spray ,non-aerosol   \n",
       "1                                     lyza   \n",
       "2                      pyrogallol crystals   \n",
       "3             warfarin (bulk) 100 % powder   \n",
       "4                                wymzya fe   \n",
       "\n",
       "                                        Side Effects  \n",
       "0  Fatigue, upset stomach, Bloating, constipation...  \n",
       "1  Fatigue, upset stomach, dry mouth /nose/throat...  \n",
       "2                                   Nausea, Bloating  \n",
       "3                            upset stomach, Headache  \n",
       "4  Fatigue, Drowsiness, Headache, upset stomach, ...  "
      ]
     },
     "execution_count": 4,
     "metadata": {},
     "output_type": "execute_result"
    }
   ],
   "source": [
    "##preview the data\n",
    "data.head()"
   ]
  },
  {
   "cell_type": "code",
   "execution_count": 5,
   "id": "7f21df26",
   "metadata": {},
   "outputs": [
    {
     "data": {
      "text/plain": [
       "(400000, 6)"
      ]
     },
     "execution_count": 5,
     "metadata": {},
     "output_type": "execute_result"
    }
   ],
   "source": [
    "##total rows and columns\n",
    "data.shape"
   ]
  },
  {
   "cell_type": "code",
   "execution_count": 6,
   "id": "718062d3",
   "metadata": {},
   "outputs": [
    {
     "name": "stdout",
     "output_type": "stream",
     "text": [
      "<class 'pandas.core.frame.DataFrame'>\n",
      "RangeIndex: 400000 entries, 0 to 399999\n",
      "Data columns (total 6 columns):\n",
      " #   Column        Non-Null Count   Dtype \n",
      "---  ------        --------------   ----- \n",
      " 0   Name          400000 non-null  object\n",
      " 1   Age           400000 non-null  int64 \n",
      " 2   Gender        400000 non-null  object\n",
      " 3   Race          400000 non-null  object\n",
      " 4   Drug          400000 non-null  object\n",
      " 5   Side Effects  400000 non-null  object\n",
      "dtypes: int64(1), object(5)\n",
      "memory usage: 18.3+ MB\n"
     ]
    }
   ],
   "source": [
    "data.info()"
   ]
  },
  {
   "cell_type": "code",
   "execution_count": 7,
   "id": "94a61263",
   "metadata": {},
   "outputs": [
    {
     "data": {
      "text/html": [
       "<div>\n",
       "<style scoped>\n",
       "    .dataframe tbody tr th:only-of-type {\n",
       "        vertical-align: middle;\n",
       "    }\n",
       "\n",
       "    .dataframe tbody tr th {\n",
       "        vertical-align: top;\n",
       "    }\n",
       "\n",
       "    .dataframe thead th {\n",
       "        text-align: right;\n",
       "    }\n",
       "</style>\n",
       "<table border=\"1\" class=\"dataframe\">\n",
       "  <thead>\n",
       "    <tr style=\"text-align: right;\">\n",
       "      <th></th>\n",
       "      <th>Age</th>\n",
       "    </tr>\n",
       "  </thead>\n",
       "  <tbody>\n",
       "    <tr>\n",
       "      <th>count</th>\n",
       "      <td>400000.000000</td>\n",
       "    </tr>\n",
       "    <tr>\n",
       "      <th>mean</th>\n",
       "      <td>53.513370</td>\n",
       "    </tr>\n",
       "    <tr>\n",
       "      <th>std</th>\n",
       "      <td>20.805653</td>\n",
       "    </tr>\n",
       "    <tr>\n",
       "      <th>min</th>\n",
       "      <td>18.000000</td>\n",
       "    </tr>\n",
       "    <tr>\n",
       "      <th>25%</th>\n",
       "      <td>35.000000</td>\n",
       "    </tr>\n",
       "    <tr>\n",
       "      <th>50%</th>\n",
       "      <td>54.000000</td>\n",
       "    </tr>\n",
       "    <tr>\n",
       "      <th>75%</th>\n",
       "      <td>72.000000</td>\n",
       "    </tr>\n",
       "    <tr>\n",
       "      <th>max</th>\n",
       "      <td>89.000000</td>\n",
       "    </tr>\n",
       "  </tbody>\n",
       "</table>\n",
       "</div>"
      ],
      "text/plain": [
       "                 Age\n",
       "count  400000.000000\n",
       "mean       53.513370\n",
       "std        20.805653\n",
       "min        18.000000\n",
       "25%        35.000000\n",
       "50%        54.000000\n",
       "75%        72.000000\n",
       "max        89.000000"
      ]
     },
     "execution_count": 7,
     "metadata": {},
     "output_type": "execute_result"
    }
   ],
   "source": [
    "##summary statistics\n",
    "data.describe()"
   ]
  },
  {
   "cell_type": "code",
   "execution_count": 8,
   "id": "8ae2cb58",
   "metadata": {},
   "outputs": [
    {
     "data": {
      "text/plain": [
       "Name            object\n",
       "Age              int64\n",
       "Gender          object\n",
       "Race            object\n",
       "Drug            object\n",
       "Side Effects    object\n",
       "dtype: object"
      ]
     },
     "execution_count": 8,
     "metadata": {},
     "output_type": "execute_result"
    }
   ],
   "source": [
    "##check datatypes\n",
    "data.dtypes"
   ]
  },
  {
   "cell_type": "code",
   "execution_count": 9,
   "id": "db58ec47",
   "metadata": {},
   "outputs": [
    {
     "data": {
      "text/plain": [
       "Name            0\n",
       "Age             0\n",
       "Gender          0\n",
       "Race            0\n",
       "Drug            0\n",
       "Side Effects    0\n",
       "dtype: int64"
      ]
     },
     "execution_count": 9,
     "metadata": {},
     "output_type": "execute_result"
    }
   ],
   "source": [
    "##checking missing values\n",
    "data.isnull().sum()"
   ]
  },
  {
   "cell_type": "code",
   "execution_count": 10,
   "id": "a69adbee",
   "metadata": {},
   "outputs": [
    {
     "data": {
      "text/html": [
       "<div>\n",
       "<style scoped>\n",
       "    .dataframe tbody tr th:only-of-type {\n",
       "        vertical-align: middle;\n",
       "    }\n",
       "\n",
       "    .dataframe tbody tr th {\n",
       "        vertical-align: top;\n",
       "    }\n",
       "\n",
       "    .dataframe thead th {\n",
       "        text-align: right;\n",
       "    }\n",
       "</style>\n",
       "<table border=\"1\" class=\"dataframe\">\n",
       "  <thead>\n",
       "    <tr style=\"text-align: right;\">\n",
       "      <th></th>\n",
       "      <th>Name</th>\n",
       "      <th>Age</th>\n",
       "      <th>Gender</th>\n",
       "      <th>Race</th>\n",
       "      <th>Drug</th>\n",
       "      <th>Side Effects</th>\n",
       "    </tr>\n",
       "  </thead>\n",
       "  <tbody>\n",
       "    <tr>\n",
       "      <th>0</th>\n",
       "      <td>Victoria Hernandez</td>\n",
       "      <td>78</td>\n",
       "      <td>Female</td>\n",
       "      <td>Asian</td>\n",
       "      <td>12 hour nasal relief spray ,non-aerosol</td>\n",
       "      <td>Fatigue, upset stomach, Bloating, constipation...</td>\n",
       "    </tr>\n",
       "    <tr>\n",
       "      <th>1</th>\n",
       "      <td>Reginald Wright</td>\n",
       "      <td>41</td>\n",
       "      <td>Female</td>\n",
       "      <td>Caucasian</td>\n",
       "      <td>lyza</td>\n",
       "      <td>Fatigue, upset stomach, dry mouth /nose/throat...</td>\n",
       "    </tr>\n",
       "    <tr>\n",
       "      <th>2</th>\n",
       "      <td>Nathaniel Lara</td>\n",
       "      <td>24</td>\n",
       "      <td>Male</td>\n",
       "      <td>Caucasian</td>\n",
       "      <td>pyrogallol crystals</td>\n",
       "      <td>Nausea, Bloating</td>\n",
       "    </tr>\n",
       "    <tr>\n",
       "      <th>3</th>\n",
       "      <td>Mackenzie Mueller</td>\n",
       "      <td>34</td>\n",
       "      <td>Female</td>\n",
       "      <td>Caucasian</td>\n",
       "      <td>warfarin (bulk) 100 % powder</td>\n",
       "      <td>upset stomach, Headache</td>\n",
       "    </tr>\n",
       "    <tr>\n",
       "      <th>4</th>\n",
       "      <td>Kelly Mahoney</td>\n",
       "      <td>67</td>\n",
       "      <td>Female</td>\n",
       "      <td>Asian</td>\n",
       "      <td>wymzya fe</td>\n",
       "      <td>Fatigue, Drowsiness, Headache, upset stomach, ...</td>\n",
       "    </tr>\n",
       "    <tr>\n",
       "      <th>...</th>\n",
       "      <td>...</td>\n",
       "      <td>...</td>\n",
       "      <td>...</td>\n",
       "      <td>...</td>\n",
       "      <td>...</td>\n",
       "      <td>...</td>\n",
       "    </tr>\n",
       "    <tr>\n",
       "      <th>399995</th>\n",
       "      <td>Virginia Young</td>\n",
       "      <td>89</td>\n",
       "      <td>Female</td>\n",
       "      <td>Asian</td>\n",
       "      <td>chantix</td>\n",
       "      <td>constipation, Headache, Dizziness, Fever, upse...</td>\n",
       "    </tr>\n",
       "    <tr>\n",
       "      <th>399996</th>\n",
       "      <td>Leslie Cherry</td>\n",
       "      <td>62</td>\n",
       "      <td>Male</td>\n",
       "      <td>Asian</td>\n",
       "      <td>pyrithione zinc shampoo</td>\n",
       "      <td>dry mouth /nose/throat, upset stomach, Fatigue...</td>\n",
       "    </tr>\n",
       "    <tr>\n",
       "      <th>399997</th>\n",
       "      <td>Lisa Haynes</td>\n",
       "      <td>69</td>\n",
       "      <td>Male</td>\n",
       "      <td>Other</td>\n",
       "      <td>wymzya fe</td>\n",
       "      <td>upset stomach, Fatigue, Bloating, Nausea, Head...</td>\n",
       "    </tr>\n",
       "    <tr>\n",
       "      <th>399998</th>\n",
       "      <td>Dustin Hunter</td>\n",
       "      <td>52</td>\n",
       "      <td>Female</td>\n",
       "      <td>Hispanic</td>\n",
       "      <td>12 hour nasal relief spray ,non-aerosol</td>\n",
       "      <td>Dizziness, upset stomach, Fever</td>\n",
       "    </tr>\n",
       "    <tr>\n",
       "      <th>399999</th>\n",
       "      <td>Brian Perkins</td>\n",
       "      <td>85</td>\n",
       "      <td>Female</td>\n",
       "      <td>Other</td>\n",
       "      <td>25dph-7.5peh</td>\n",
       "      <td>Nausea</td>\n",
       "    </tr>\n",
       "  </tbody>\n",
       "</table>\n",
       "<p>400000 rows × 6 columns</p>\n",
       "</div>"
      ],
      "text/plain": [
       "                      Name  Age  Gender       Race  \\\n",
       "0       Victoria Hernandez   78  Female      Asian   \n",
       "1          Reginald Wright   41  Female  Caucasian   \n",
       "2           Nathaniel Lara   24    Male  Caucasian   \n",
       "3        Mackenzie Mueller   34  Female  Caucasian   \n",
       "4            Kelly Mahoney   67  Female      Asian   \n",
       "...                    ...  ...     ...        ...   \n",
       "399995      Virginia Young   89  Female      Asian   \n",
       "399996       Leslie Cherry   62    Male      Asian   \n",
       "399997         Lisa Haynes   69    Male      Other   \n",
       "399998       Dustin Hunter   52  Female   Hispanic   \n",
       "399999       Brian Perkins   85  Female      Other   \n",
       "\n",
       "                                           Drug  \\\n",
       "0       12 hour nasal relief spray ,non-aerosol   \n",
       "1                                          lyza   \n",
       "2                           pyrogallol crystals   \n",
       "3                  warfarin (bulk) 100 % powder   \n",
       "4                                     wymzya fe   \n",
       "...                                         ...   \n",
       "399995                                  chantix   \n",
       "399996                  pyrithione zinc shampoo   \n",
       "399997                                wymzya fe   \n",
       "399998  12 hour nasal relief spray ,non-aerosol   \n",
       "399999                             25dph-7.5peh   \n",
       "\n",
       "                                             Side Effects  \n",
       "0       Fatigue, upset stomach, Bloating, constipation...  \n",
       "1       Fatigue, upset stomach, dry mouth /nose/throat...  \n",
       "2                                        Nausea, Bloating  \n",
       "3                                 upset stomach, Headache  \n",
       "4       Fatigue, Drowsiness, Headache, upset stomach, ...  \n",
       "...                                                   ...  \n",
       "399995  constipation, Headache, Dizziness, Fever, upse...  \n",
       "399996  dry mouth /nose/throat, upset stomach, Fatigue...  \n",
       "399997  upset stomach, Fatigue, Bloating, Nausea, Head...  \n",
       "399998                    Dizziness, upset stomach, Fever  \n",
       "399999                                             Nausea  \n",
       "\n",
       "[400000 rows x 6 columns]"
      ]
     },
     "execution_count": 10,
     "metadata": {},
     "output_type": "execute_result"
    }
   ],
   "source": [
    "##dropping duplicate values\n",
    "data=data.drop_duplicates()\n",
    "data"
   ]
  },
  {
   "cell_type": "code",
   "execution_count": 11,
   "id": "f7bba936",
   "metadata": {},
   "outputs": [
    {
     "data": {
      "text/plain": [
       "(400000, 6)"
      ]
     },
     "execution_count": 11,
     "metadata": {},
     "output_type": "execute_result"
    }
   ],
   "source": [
    "data.shape"
   ]
  },
  {
   "cell_type": "code",
   "execution_count": 12,
   "id": "abc5ab8c",
   "metadata": {},
   "outputs": [
    {
     "data": {
      "text/plain": [
       "Name            192448\n",
       "Age                 72\n",
       "Gender               2\n",
       "Race                 5\n",
       "Drug                10\n",
       "Side Effects    220900\n",
       "dtype: int64"
      ]
     },
     "execution_count": 12,
     "metadata": {},
     "output_type": "execute_result"
    }
   ],
   "source": [
    "data.nunique()"
   ]
  },
  {
   "cell_type": "code",
   "execution_count": 13,
   "id": "56eb67e3",
   "metadata": {},
   "outputs": [
    {
     "data": {
      "text/html": [
       "<div>\n",
       "<style scoped>\n",
       "    .dataframe tbody tr th:only-of-type {\n",
       "        vertical-align: middle;\n",
       "    }\n",
       "\n",
       "    .dataframe tbody tr th {\n",
       "        vertical-align: top;\n",
       "    }\n",
       "\n",
       "    .dataframe thead th {\n",
       "        text-align: right;\n",
       "    }\n",
       "</style>\n",
       "<table border=\"1\" class=\"dataframe\">\n",
       "  <thead>\n",
       "    <tr style=\"text-align: right;\">\n",
       "      <th></th>\n",
       "      <th>Name</th>\n",
       "      <th>Age</th>\n",
       "      <th>Gender</th>\n",
       "      <th>Race</th>\n",
       "      <th>Drug</th>\n",
       "      <th>Side Effects</th>\n",
       "    </tr>\n",
       "  </thead>\n",
       "  <tbody>\n",
       "    <tr>\n",
       "      <th>256890</th>\n",
       "      <td>Cristian Meyers</td>\n",
       "      <td>18</td>\n",
       "      <td>Female</td>\n",
       "      <td>Hispanic</td>\n",
       "      <td>chantix</td>\n",
       "      <td>upset stomach, Drowsiness, Bloating</td>\n",
       "    </tr>\n",
       "    <tr>\n",
       "      <th>44980</th>\n",
       "      <td>Richard Flowers</td>\n",
       "      <td>18</td>\n",
       "      <td>Male</td>\n",
       "      <td>African American</td>\n",
       "      <td>pyrithione zinc shampoo</td>\n",
       "      <td>Fever, upset stomach, Drowsiness, dry mouth /n...</td>\n",
       "    </tr>\n",
       "    <tr>\n",
       "      <th>234866</th>\n",
       "      <td>Robert Logan</td>\n",
       "      <td>18</td>\n",
       "      <td>Female</td>\n",
       "      <td>Caucasian</td>\n",
       "      <td>12 hour nasal relief spray ,non-aerosol</td>\n",
       "      <td>Fatigue, Headache, Fever, Drowsiness, Nausea, ...</td>\n",
       "    </tr>\n",
       "    <tr>\n",
       "      <th>379884</th>\n",
       "      <td>James Martin</td>\n",
       "      <td>18</td>\n",
       "      <td>Male</td>\n",
       "      <td>Asian</td>\n",
       "      <td>lysteda</td>\n",
       "      <td>Headache, upset stomach, dry mouth /nose/throat</td>\n",
       "    </tr>\n",
       "    <tr>\n",
       "      <th>260133</th>\n",
       "      <td>James Soto</td>\n",
       "      <td>18</td>\n",
       "      <td>Female</td>\n",
       "      <td>Other</td>\n",
       "      <td>12 hour nasal relief spray ,non-aerosol</td>\n",
       "      <td>Fatigue, Headache</td>\n",
       "    </tr>\n",
       "  </tbody>\n",
       "</table>\n",
       "</div>"
      ],
      "text/plain": [
       "                   Name  Age  Gender              Race  \\\n",
       "256890  Cristian Meyers   18  Female          Hispanic   \n",
       "44980   Richard Flowers   18    Male  African American   \n",
       "234866     Robert Logan   18  Female         Caucasian   \n",
       "379884     James Martin   18    Male             Asian   \n",
       "260133       James Soto   18  Female             Other   \n",
       "\n",
       "                                           Drug  \\\n",
       "256890                                  chantix   \n",
       "44980                   pyrithione zinc shampoo   \n",
       "234866  12 hour nasal relief spray ,non-aerosol   \n",
       "379884                                  lysteda   \n",
       "260133  12 hour nasal relief spray ,non-aerosol   \n",
       "\n",
       "                                             Side Effects  \n",
       "256890                upset stomach, Drowsiness, Bloating  \n",
       "44980   Fever, upset stomach, Drowsiness, dry mouth /n...  \n",
       "234866  Fatigue, Headache, Fever, Drowsiness, Nausea, ...  \n",
       "379884    Headache, upset stomach, dry mouth /nose/throat  \n",
       "260133                                  Fatigue, Headache  "
      ]
     },
     "execution_count": 13,
     "metadata": {},
     "output_type": "execute_result"
    }
   ],
   "source": [
    "data.sort_values(by=\"Age\",ascending=True).head()"
   ]
  },
  {
   "cell_type": "code",
   "execution_count": 14,
   "id": "9b4adcaf",
   "metadata": {},
   "outputs": [
    {
     "data": {
      "text/html": [
       "<div>\n",
       "<style scoped>\n",
       "    .dataframe tbody tr th:only-of-type {\n",
       "        vertical-align: middle;\n",
       "    }\n",
       "\n",
       "    .dataframe tbody tr th {\n",
       "        vertical-align: top;\n",
       "    }\n",
       "\n",
       "    .dataframe thead th {\n",
       "        text-align: right;\n",
       "    }\n",
       "</style>\n",
       "<table border=\"1\" class=\"dataframe\">\n",
       "  <thead>\n",
       "    <tr style=\"text-align: right;\">\n",
       "      <th></th>\n",
       "      <th>Name</th>\n",
       "      <th>Age</th>\n",
       "      <th>Gender</th>\n",
       "      <th>Race</th>\n",
       "      <th>Drug</th>\n",
       "      <th>Side Effects</th>\n",
       "    </tr>\n",
       "  </thead>\n",
       "  <tbody>\n",
       "    <tr>\n",
       "      <th>291186</th>\n",
       "      <td>Aaron Acosta</td>\n",
       "      <td>79</td>\n",
       "      <td>Male</td>\n",
       "      <td>Caucasian</td>\n",
       "      <td>25dph-7.5peh</td>\n",
       "      <td>Nausea, upset stomach, Headache, Fatigue, Feve...</td>\n",
       "    </tr>\n",
       "    <tr>\n",
       "      <th>16926</th>\n",
       "      <td>Aaron Adams</td>\n",
       "      <td>81</td>\n",
       "      <td>Male</td>\n",
       "      <td>African American</td>\n",
       "      <td>lysteda</td>\n",
       "      <td>constipation, upset stomach, Fever, Headache, ...</td>\n",
       "    </tr>\n",
       "    <tr>\n",
       "      <th>222338</th>\n",
       "      <td>Aaron Adams</td>\n",
       "      <td>86</td>\n",
       "      <td>Female</td>\n",
       "      <td>Hispanic</td>\n",
       "      <td>chantix</td>\n",
       "      <td>upset stomach, Drowsiness, constipation</td>\n",
       "    </tr>\n",
       "    <tr>\n",
       "      <th>64843</th>\n",
       "      <td>Aaron Adams</td>\n",
       "      <td>19</td>\n",
       "      <td>Male</td>\n",
       "      <td>Other</td>\n",
       "      <td>pyrithione zinc shampoo</td>\n",
       "      <td>Drowsiness, dry mouth /nose/throat, Dizziness,...</td>\n",
       "    </tr>\n",
       "    <tr>\n",
       "      <th>269912</th>\n",
       "      <td>Aaron Adams</td>\n",
       "      <td>37</td>\n",
       "      <td>Female</td>\n",
       "      <td>Hispanic</td>\n",
       "      <td>wymzya fe</td>\n",
       "      <td>upset stomach, Bloating, Fever, Headache, cons...</td>\n",
       "    </tr>\n",
       "  </tbody>\n",
       "</table>\n",
       "</div>"
      ],
      "text/plain": [
       "                Name  Age  Gender              Race                     Drug  \\\n",
       "291186  Aaron Acosta   79    Male         Caucasian             25dph-7.5peh   \n",
       "16926    Aaron Adams   81    Male  African American                  lysteda   \n",
       "222338   Aaron Adams   86  Female          Hispanic                  chantix   \n",
       "64843    Aaron Adams   19    Male             Other  pyrithione zinc shampoo   \n",
       "269912   Aaron Adams   37  Female          Hispanic                wymzya fe   \n",
       "\n",
       "                                             Side Effects  \n",
       "291186  Nausea, upset stomach, Headache, Fatigue, Feve...  \n",
       "16926   constipation, upset stomach, Fever, Headache, ...  \n",
       "222338            upset stomach, Drowsiness, constipation  \n",
       "64843   Drowsiness, dry mouth /nose/throat, Dizziness,...  \n",
       "269912  upset stomach, Bloating, Fever, Headache, cons...  "
      ]
     },
     "execution_count": 14,
     "metadata": {},
     "output_type": "execute_result"
    }
   ],
   "source": [
    "data.sort_values(by=\"Name\",ascending=True).head()"
   ]
  },
  {
   "cell_type": "markdown",
   "id": "da3b2bcb",
   "metadata": {},
   "source": [
    "# EXPLORATORY DATA ANALYIS"
   ]
  },
  {
   "cell_type": "code",
   "execution_count": 15,
   "id": "80cf0049",
   "metadata": {},
   "outputs": [
    {
     "data": {
      "text/plain": [
       "Male      200106\n",
       "Female    199894\n",
       "Name: Gender, dtype: int64"
      ]
     },
     "execution_count": 15,
     "metadata": {},
     "output_type": "execute_result"
    }
   ],
   "source": [
    "#Checking value counts of \"GENDER\"\n",
    "data[\"Gender\"].value_counts()"
   ]
  },
  {
   "cell_type": "code",
   "execution_count": 16,
   "id": "2e73d3c4",
   "metadata": {},
   "outputs": [
    {
     "data": {
      "text/plain": [
       "(array([0, 1]), [Text(0, 0, 'Female'), Text(1, 0, 'Male')])"
      ]
     },
     "execution_count": 16,
     "metadata": {},
     "output_type": "execute_result"
    },
    {
     "data": {
      "image/png": "[encoded data removed]",
      "text/plain": [
       "<Figure size 600x600 with 1 Axes>"
      ]
     },
     "metadata": {},
     "output_type": "display_data"
    }
   ],
   "source": [
    "data[\"Gender\"].value_counts()\n",
    "plt.figure(figsize=(6,6))\n",
    "sns.countplot(x='Gender',hue='Gender',data=data,palette=\"PuBuGn_r\")\n",
    "plt.title(\"GENDER COUNT\",fontsize=18 )\n",
    "plt.xticks(rotation=45)"
   ]
  },
  {
   "cell_type": "code",
   "execution_count": 17,
   "id": "ad6b5fb2",
   "metadata": {},
   "outputs": [
    {
     "data": {
      "text/plain": [
       "Caucasian           80169\n",
       "Asian               80053\n",
       "Other               80020\n",
       "African American    80002\n",
       "Hispanic            79756\n",
       "Name: Race, dtype: int64"
      ]
     },
     "execution_count": 17,
     "metadata": {},
     "output_type": "execute_result"
    }
   ],
   "source": [
    "#Checking value counts of \"RACE\"\n",
    "data[\"Race\"].value_counts()"
   ]
  },
  {
   "cell_type": "code",
   "execution_count": 18,
   "id": "e8089be5",
   "metadata": {},
   "outputs": [
    {
     "data": {
      "text/plain": [
       "(array([0, 1, 2, 3, 4]),\n",
       " [Text(0, 0, 'Asian'),\n",
       "  Text(1, 0, 'Caucasian'),\n",
       "  Text(2, 0, 'African American'),\n",
       "  Text(3, 0, 'Other'),\n",
       "  Text(4, 0, 'Hispanic')])"
      ]
     },
     "execution_count": 18,
     "metadata": {},
     "output_type": "execute_result"
    },
    {
     "data": {
      "image/png": "[encoded data removed]",
      "text/plain": [
       "<Figure size 1000x600 with 1 Axes>"
      ]
     },
     "metadata": {},
     "output_type": "display_data"
    }
   ],
   "source": [
    "data[\"Race\"].value_counts()\n",
    "plt.figure(figsize=(10,6))\n",
    "sns.countplot(x='Race',hue='Race',data=data)\n",
    "plt.title(\"RACE COUNT\",fontsize=18 )\n",
    "plt.xticks(rotation=45)"
   ]
  },
  {
   "cell_type": "code",
   "execution_count": 19,
   "id": "aa1ca2ad",
   "metadata": {},
   "outputs": [
    {
     "data": {
      "text/html": [
       "<div>\n",
       "<style scoped>\n",
       "    .dataframe tbody tr th:only-of-type {\n",
       "        vertical-align: middle;\n",
       "    }\n",
       "\n",
       "    .dataframe tbody tr th {\n",
       "        vertical-align: top;\n",
       "    }\n",
       "\n",
       "    .dataframe thead th {\n",
       "        text-align: right;\n",
       "    }\n",
       "</style>\n",
       "<table border=\"1\" class=\"dataframe\">\n",
       "  <thead>\n",
       "    <tr style=\"text-align: right;\">\n",
       "      <th></th>\n",
       "      <th>Age</th>\n",
       "      <th>Gender</th>\n",
       "      <th>Race</th>\n",
       "      <th>Drug</th>\n",
       "      <th>Side Effects</th>\n",
       "    </tr>\n",
       "  </thead>\n",
       "  <tbody>\n",
       "    <tr>\n",
       "      <th>0</th>\n",
       "      <td>78</td>\n",
       "      <td>Female</td>\n",
       "      <td>Asian</td>\n",
       "      <td>12 hour nasal relief spray ,non-aerosol</td>\n",
       "      <td>Fatigue, upset stomach, Bloating, constipation...</td>\n",
       "    </tr>\n",
       "    <tr>\n",
       "      <th>1</th>\n",
       "      <td>41</td>\n",
       "      <td>Female</td>\n",
       "      <td>Caucasian</td>\n",
       "      <td>lyza</td>\n",
       "      <td>Fatigue, upset stomach, dry mouth /nose/throat...</td>\n",
       "    </tr>\n",
       "    <tr>\n",
       "      <th>2</th>\n",
       "      <td>24</td>\n",
       "      <td>Male</td>\n",
       "      <td>Caucasian</td>\n",
       "      <td>pyrogallol crystals</td>\n",
       "      <td>Nausea, Bloating</td>\n",
       "    </tr>\n",
       "  </tbody>\n",
       "</table>\n",
       "</div>"
      ],
      "text/plain": [
       "   Age  Gender       Race                                     Drug  \\\n",
       "0   78  Female      Asian  12 hour nasal relief spray ,non-aerosol   \n",
       "1   41  Female  Caucasian                                     lyza   \n",
       "2   24    Male  Caucasian                      pyrogallol crystals   \n",
       "\n",
       "                                        Side Effects  \n",
       "0  Fatigue, upset stomach, Bloating, constipation...  \n",
       "1  Fatigue, upset stomach, dry mouth /nose/throat...  \n",
       "2                                   Nausea, Bloating  "
      ]
     },
     "execution_count": 19,
     "metadata": {},
     "output_type": "execute_result"
    }
   ],
   "source": [
    "#Drop the column \"Name\" which doesn't give any contribution for the modelling\n",
    "data = data.drop(['Name'], axis = 1)\n",
    "data.head(3)"
   ]
  },
  {
   "cell_type": "markdown",
   "id": "fbb94180",
   "metadata": {},
   "source": [
    "# OUTLIERS IN THE DATA"
   ]
  },
  {
   "cell_type": "code",
   "execution_count": 20,
   "id": "ad1a773f",
   "metadata": {},
   "outputs": [
    {
     "name": "stdout",
     "output_type": "stream",
     "text": [
      "value of Q1: 39.0\n",
      "value of Q2: 61.0\n",
      "value of Q3: 82.0\n"
     ]
    },
    {
     "name": "stderr",
     "output_type": "stream",
     "text": [
      "C:\\Users\\Shamnad S\\AppData\\Local\\Temp\\ipykernel_11136\\1433661055.py:2: DeprecationWarning: the `interpolation=` argument to percentile was renamed to `method=`, which has additional options.\n",
      "Users of the modes 'nearest', 'lower', 'higher', or 'midpoint' are encouraged to review the method they used. (Deprecated NumPy 1.22)\n",
      "  Q1=np.percentile(data[\"Age\"],30,interpolation= \"midpoint\")\n",
      "C:\\Users\\Shamnad S\\AppData\\Local\\Temp\\ipykernel_11136\\1433661055.py:3: DeprecationWarning: the `interpolation=` argument to percentile was renamed to `method=`, which has additional options.\n",
      "Users of the modes 'nearest', 'lower', 'higher', or 'midpoint' are encouraged to review the method they used. (Deprecated NumPy 1.22)\n",
      "  Q2=np.percentile(data[\"Age\"],60,interpolation= \"midpoint\")\n",
      "C:\\Users\\Shamnad S\\AppData\\Local\\Temp\\ipykernel_11136\\1433661055.py:4: DeprecationWarning: the `interpolation=` argument to percentile was renamed to `method=`, which has additional options.\n",
      "Users of the modes 'nearest', 'lower', 'higher', or 'midpoint' are encouraged to review the method they used. (Deprecated NumPy 1.22)\n",
      "  Q3=np.percentile(data[\"Age\"],90,interpolation= \"midpoint\")\n"
     ]
    }
   ],
   "source": [
    "# Calculate quartile values for 'AGE' using 30,60 and 90 percentile values\n",
    "Q1=np.percentile(data[\"Age\"],30,interpolation= \"midpoint\")\n",
    "Q2=np.percentile(data[\"Age\"],60,interpolation= \"midpoint\")\n",
    "Q3=np.percentile(data[\"Age\"],90,interpolation= \"midpoint\")\n",
    "print(\"value of Q1:\",Q1)\n",
    "print(\"value of Q2:\",Q2)\n",
    "print(\"value of Q3:\",Q3)"
   ]
  },
  {
   "cell_type": "code",
   "execution_count": 21,
   "id": "87f14d9a",
   "metadata": {},
   "outputs": [
    {
     "data": {
      "text/plain": [
       "54.0"
      ]
     },
     "execution_count": 21,
     "metadata": {},
     "output_type": "execute_result"
    }
   ],
   "source": [
    "data[\"Age\"].median()"
   ]
  },
  {
   "cell_type": "code",
   "execution_count": 22,
   "id": "986bd60a",
   "metadata": {},
   "outputs": [],
   "source": [
    "IQR= Q3-Q1"
   ]
  },
  {
   "cell_type": "code",
   "execution_count": 23,
   "id": "f81027b6",
   "metadata": {},
   "outputs": [
    {
     "name": "stdout",
     "output_type": "stream",
     "text": [
      "Upper limit value is: 146.5\n",
      "Lower limit value is: -25.5\n"
     ]
    }
   ],
   "source": [
    "Upper_lim= Q3+1.5*IQR\n",
    "Lower_lim=Q1-1.5*IQR\n",
    "print(\"Upper limit value is:\",Upper_lim)\n",
    "print(\"Lower limit value is:\",Lower_lim)"
   ]
  },
  {
   "cell_type": "code",
   "execution_count": 24,
   "id": "e3f5c069",
   "metadata": {},
   "outputs": [],
   "source": [
    "outlier=[]\n",
    "for x in data[\"Age\"]:\n",
    "    if((x>Upper_lim)or(x<Lower_lim)):\n",
    "        outlier.append(x)"
   ]
  },
  {
   "cell_type": "code",
   "execution_count": 25,
   "id": "e31b7a8c",
   "metadata": {},
   "outputs": [
    {
     "data": {
      "text/plain": [
       "[]"
      ]
     },
     "execution_count": 25,
     "metadata": {},
     "output_type": "execute_result"
    }
   ],
   "source": [
    "outlier"
   ]
  },
  {
   "cell_type": "code",
   "execution_count": 26,
   "id": "58010f7c",
   "metadata": {},
   "outputs": [
    {
     "data": {
      "text/plain": [
       "Int64Index([], dtype='int64')"
      ]
     },
     "execution_count": 26,
     "metadata": {},
     "output_type": "execute_result"
    }
   ],
   "source": [
    "ind_val=data[\"Age\"]>Upper_lim\n",
    "data.loc[ind_val].index"
   ]
  },
  {
   "cell_type": "code",
   "execution_count": 27,
   "id": "72ac6fdc",
   "metadata": {},
   "outputs": [],
   "source": [
    "data01 = data.copy()"
   ]
  },
  {
   "cell_type": "code",
   "execution_count": 28,
   "id": "9cfcb1f5",
   "metadata": {},
   "outputs": [
    {
     "name": "stderr",
     "output_type": "stream",
     "text": [
      "IOPub data rate exceeded.\n",
      "The notebook server will temporarily stop sending output\n",
      "to the client in order to avoid crashing it.\n",
      "To change this limit, set the config variable\n",
      "`--NotebookApp.iopub_data_rate_limit`.\n",
      "\n",
      "Current values:\n",
      "NotebookApp.iopub_data_rate_limit=1000000.0 (bytes/sec)\n",
      "NotebookApp.rate_limit_window=3.0 (secs)\n",
      "\n"
     ]
    }
   ],
   "source": [
    "from sklearn.preprocessing import LabelEncoder\n",
    "\n",
    "cols = []\n",
    "for i in data01.columns:\n",
    "    if data01[i].dtype == 'object':\n",
    "        cols.append(i)\n",
    "\n",
    "labelencoder = LabelEncoder()\n",
    "mapping =[]\n",
    "for i in cols:\n",
    "    data01[i] = labelencoder.fit_transform(data01[i])\n",
    "    lemap = dict(zip(labelencoder.classes_,labelencoder.transform(labelencoder.classes_)))\n",
    "    mapping.append(lemap)\n",
    "\n",
    "print(f\"Mapped labels of the features in data01 are {mapping}\")"
   ]
  },
  {
   "cell_type": "code",
   "execution_count": 29,
   "id": "1d430faf",
   "metadata": {},
   "outputs": [
    {
     "data": {
      "text/plain": [
       "<Axes: >"
      ]
     },
     "execution_count": 29,
     "metadata": {},
     "output_type": "execute_result"
    },
    {
     "data": {
      "image/png": "[encoded data removed]",
      "text/plain": [
       "<Figure size 1000x1500 with 2 Axes>"
      ]
     },
     "metadata": {},
     "output_type": "display_data"
    }
   ],
   "source": [
    "# Create the correlation heatmap \n",
    "from matplotlib import pyplot as plt\n",
    "import seaborn as sns\n",
    "corrmatrix = data01.corr()\n",
    "plt.subplots(figsize=(10,15))\n",
    "colormap = sns.color_palette(\"inferno\", as_cmap=True)\n",
    "sns.set_theme(style='darkgrid')\n",
    "# Generating a mask for the upper triangle\n",
    "mask = np.zeros_like(corrmatrix)\n",
    "mask[np.triu_indices_from(mask)] = True\n",
    "# Heatmap with the mask\n",
    "sns.heatmap(corrmatrix,mask=mask, square=True, annot=True, linewidth=0.75, cmap=colormap)"
   ]
  },
  {
   "cell_type": "code",
   "execution_count": 30,
   "id": "23ef9353",
   "metadata": {},
   "outputs": [
    {
     "data": {
      "text/html": [
       "<div>\n",
       "<style scoped>\n",
       "    .dataframe tbody tr th:only-of-type {\n",
       "        vertical-align: middle;\n",
       "    }\n",
       "\n",
       "    .dataframe tbody tr th {\n",
       "        vertical-align: top;\n",
       "    }\n",
       "\n",
       "    .dataframe thead th {\n",
       "        text-align: right;\n",
       "    }\n",
       "</style>\n",
       "<table border=\"1\" class=\"dataframe\">\n",
       "  <thead>\n",
       "    <tr style=\"text-align: right;\">\n",
       "      <th></th>\n",
       "      <th>Age</th>\n",
       "      <th>Gender</th>\n",
       "      <th>Drug</th>\n",
       "      <th>Side Effects</th>\n",
       "    </tr>\n",
       "  </thead>\n",
       "  <tbody>\n",
       "    <tr>\n",
       "      <th>0</th>\n",
       "      <td>78</td>\n",
       "      <td>0</td>\n",
       "      <td>0</td>\n",
       "      <td>86046</td>\n",
       "    </tr>\n",
       "    <tr>\n",
       "      <th>1</th>\n",
       "      <td>41</td>\n",
       "      <td>0</td>\n",
       "      <td>5</td>\n",
       "      <td>87943</td>\n",
       "    </tr>\n",
       "    <tr>\n",
       "      <th>2</th>\n",
       "      <td>24</td>\n",
       "      <td>1</td>\n",
       "      <td>7</td>\n",
       "      <td>132796</td>\n",
       "    </tr>\n",
       "  </tbody>\n",
       "</table>\n",
       "</div>"
      ],
      "text/plain": [
       "   Age  Gender  Drug  Side Effects\n",
       "0   78       0     0         86046\n",
       "1   41       0     5         87943\n",
       "2   24       1     7        132796"
      ]
     },
     "execution_count": 30,
     "metadata": {},
     "output_type": "execute_result"
    }
   ],
   "source": [
    "data01.drop(['Race'], axis=1, inplace=True)\n",
    "data01.head(3)"
   ]
  },
  {
   "cell_type": "code",
   "execution_count": 31,
   "id": "8e46c0a1",
   "metadata": {},
   "outputs": [],
   "source": [
    "from sklearn.feature_selection import RFE\n",
    "from sklearn.model_selection import train_test_split\n",
    "from sklearn.model_selection import cross_val_score\n",
    "from sklearn.metrics import mean_squared_error, r2_score\n",
    "from sklearn.preprocessing import MinMaxScaler\n",
    "from sklearn.metrics import confusion_matrix\n",
    "from sklearn.metrics import classification_report\n",
    "\n",
    "from sklearn.linear_model import LinearRegression\n",
    "from sklearn.tree import DecisionTreeRegressor\n",
    "from sklearn.ensemble import RandomForestClassifier\n",
    "from sklearn.ensemble import GradientBoostingRegressor\n",
    "from sklearn.model_selection import GridSearchCV"
   ]
  },
  {
   "cell_type": "code",
   "execution_count": 32,
   "id": "8baf1f51",
   "metadata": {},
   "outputs": [],
   "source": [
    "# Splitting the Dataframe\n",
    "# Independent variables\n",
    "X = data01.drop(['Side Effects'], axis=1)\n",
    "# Dependent variables\n",
    "y = data01['Side Effects']\n",
    "\n",
    "X_train, X_test, y_train, y_test = train_test_split(X, y, test_size = 0.35, random_state=42)"
   ]
  },
  {
   "cell_type": "code",
   "execution_count": 33,
   "id": "3d990846",
   "metadata": {},
   "outputs": [
    {
     "ename": "NameError",
     "evalue": "name 'LogisticRegression' is not defined",
     "output_type": "error",
     "traceback": [
      "\u001b[1;31m---------------------------------------------------------------------------\u001b[0m",
      "\u001b[1;31mNameError\u001b[0m                                 Traceback (most recent call last)",
      "Cell \u001b[1;32mIn[33], line 1\u001b[0m\n\u001b[1;32m----> 1\u001b[0m LogisticRegression\n\u001b[0;32m      2\u001b[0m \u001b[38;5;28;01mfrom\u001b[39;00m \u001b[38;5;21;01msklearn\u001b[39;00m\u001b[38;5;21;01m.\u001b[39;00m\u001b[38;5;21;01mlinear_model\u001b[39;00m \u001b[38;5;28;01mimport\u001b[39;00m LogisticRegression\n\u001b[0;32m      3\u001b[0m classifier \u001b[38;5;241m=\u001b[39m LogisticRegression()\n",
      "\u001b[1;31mNameError\u001b[0m: name 'LogisticRegression' is not defined"
     ]
    }
   ],
   "source": [
    "LogisticRegression\n",
    "from sklearn.linear_model import LogisticRegression\n",
    "classifier = LogisticRegression()\n",
    "classifier.fit(X_train, y_train)\n",
    "\n",
    "y_pred = classifier.predict(X_test)\n",
    "\n",
    "#Summary of the predictions made by the classifier\n",
    "print(classification_report(y_test, y_pred))\n",
    "print(confusion_matrix(y_test, y_pred))\n",
    "# Accuracy score\n",
    "from sklearn.metrics import accuracy_score\n",
    "print('accuracy is',accuracy_score(y_pred,y_test))"
   ]
  },
  {
   "cell_type": "code",
   "execution_count": null,
   "id": "e10d3fe2",
   "metadata": {},
   "outputs": [],
   "source": [
    "# K-Nearest Neighbours\n",
    "from sklearn.neighbors import KNeighborsClassifier\n",
    "\n",
    "classifier = KNeighborsClassifier(n_neighbors=8)\n",
    "classifier.fit(X_train, y_train)\n",
    "\n",
    "y_pred = classifier.predict(X_test)\n",
    "\n",
    "# Summary of the predictions made by the classifier\n",
    "print(classification_report(y_test, y_pred))\n",
    "print(confusion_matrix(y_test, y_pred))\n",
    "# Accuracy score\n",
    "from sklearn.metrics import accuracy_score\n",
    "print('accuracy is',accuracy_score(y_pred,y_test))"
   ]
  },
  {
   "cell_type": "code",
   "execution_count": null,
   "id": "ebeea198",
   "metadata": {},
   "outputs": [],
   "source": [
    "jupyter notebook --NotebookApp.iopub_data_rate_limit=100000000"
   ]
  },
  {
   "cell_type": "code",
   "execution_count": null,
   "id": "d9863503",
   "metadata": {},
   "outputs": [],
   "source": [
    "# Importing RandomForestClassifier sklearn.ensemble as RFC\n",
    "from sklearn.ensemble import RandomForestClassifier as RFC\n",
    "RModel=RFC(n_estimators=100, random_state=42)\n",
    "# Training the model\n",
    "RModel.fit(X_train,y_train)\n",
    "y_Pred=RModel.predict(X_test)"
   ]
  },
  {
   "cell_type": "code",
   "execution_count": null,
   "id": "b922f887",
   "metadata": {},
   "outputs": [],
   "source": [
    "pip install --user memory_profiler"
   ]
  },
  {
   "cell_type": "code",
   "execution_count": null,
   "id": "6bffa72a",
   "metadata": {},
   "outputs": [],
   "source": [
    "pip install mem_profile"
   ]
  },
  {
   "cell_type": "code",
   "execution_count": null,
   "id": "5a8188d9",
   "metadata": {},
   "outputs": [],
   "source": [
    "import mem_profile"
   ]
  },
  {
   "cell_type": "code",
   "execution_count": null,
   "id": "a3c2e580",
   "metadata": {},
   "outputs": [],
   "source": [
    "from memory_profiler import profile\n",
    "\n",
    "@profile\n",
    "def main_model_training():\n",
    "    # Importing RandomForestClassifier sklearn.ensemble as RFC\n",
    "    from sklearn.ensemble import RandomForestClassifier as RFC\n",
    "    RModel=RFC(n_estimators=100, random_state=42)\n",
    "    # Training the model\n",
    "    RModel.fit(X_train,y_train)\n",
    "    y_Pred=RModel.predict(X_test)"
   ]
  },
  {
   "cell_type": "code",
   "execution_count": null,
   "id": "fb94a84d",
   "metadata": {},
   "outputs": [],
   "source": [
    "from memory_profiler import profile\n",
    "import pandas as pd\n",
    "import numpy as np\n",
    "\n",
    "@profile\n",
    "def something_to_profile():\n",
    "    df = pd.DataFrame(np.random.randn(400000, 6), columns=list('Name'))\n",
    "    df.count()"
   ]
  },
  {
   "cell_type": "code",
   "execution_count": null,
   "id": "bc70cc0e",
   "metadata": {},
   "outputs": [],
   "source": [
    "# Summary of the predictions made by the classifier\n",
    "print(classification_report(y_test, y_Pred))\n",
    "print(confusion_matrix(y_test, y_Pred))\n",
    "# Accuracy score\n",
    "from sklearn.metrics import accuracy_score\n",
    "print('accuracy is',accuracy_score(y_Pred,y_test))"
   ]
  },
  {
   "cell_type": "code",
   "execution_count": null,
   "id": "702574f8",
   "metadata": {},
   "outputs": [],
   "source": []
  },
  {
   "cell_type": "code",
   "execution_count": null,
   "id": "0dbd30a3",
   "metadata": {},
   "outputs": [],
   "source": []
  }
 ],
 "metadata": {
  "kernelspec": {
   "display_name": "Python 3 (ipykernel)",
   "language": "python",
   "name": "python3"
  },
  "language_info": {
   "codemirror_mode": {
    "name": "ipython",
    "version": 3
   },
   "file_extension": ".py",
   "mimetype": "text/x-python",
   "name": "python",
   "nbconvert_exporter": "python",
   "pygments_lexer": "ipython3",
   "version": "3.11.3"
  }
 },
 "nbformat": 4,
 "nbformat_minor": 5
}
